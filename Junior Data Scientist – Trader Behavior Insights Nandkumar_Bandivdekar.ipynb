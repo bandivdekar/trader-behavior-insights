{
 "cells": [
  {
   "cell_type": "markdown",
   "id": "4c6a678a",
   "metadata": {},
   "source": [
    "# \"Junior Data Scientist – Trader Behavior Insights\"-Nandkumar_Bandivdekar\n"
   ]
  },
  {
   "cell_type": "markdown",
   "id": "84da3851",
   "metadata": {},
   "source": [
    "IMPORT LIBRARIES "
   ]
  },
  {
   "cell_type": "code",
   "execution_count": 1,
   "id": "23366d06",
   "metadata": {},
   "outputs": [],
   "source": [
    "\n",
    "import pandas as pd\n",
    "import matplotlib.pyplot as plt"
   ]
  },
  {
   "cell_type": "markdown",
   "id": "efa81b06",
   "metadata": {},
   "source": [
    "LOAD DATASETS"
   ]
  },
  {
   "cell_type": "markdown",
   "id": "00140da7",
   "metadata": {},
   "source": [
    "We load both datasets into Pandas DataFrames."
   ]
  },
  {
   "cell_type": "code",
   "execution_count": 2,
   "id": "1eba240c",
   "metadata": {},
   "outputs": [],
   "source": [
    "trader_df = pd.read_csv(r\"C:\\Users\\HP\\Downloads\\historical_data.csv\")\n",
    "sentiment_df = pd.read_csv(r\"C:\\Users\\HP\\Downloads\\fear_greed_index.csv\")"
   ]
  },
  {
   "cell_type": "markdown",
   "id": "f47309ec",
   "metadata": {},
   "source": [
    "Data Overview "
   ]
  },
  {
   "cell_type": "code",
   "execution_count": 3,
   "id": "6299a907",
   "metadata": {},
   "outputs": [
    {
     "data": {
      "text/html": [
       "<div>\n",
       "<style scoped>\n",
       "    .dataframe tbody tr th:only-of-type {\n",
       "        vertical-align: middle;\n",
       "    }\n",
       "\n",
       "    .dataframe tbody tr th {\n",
       "        vertical-align: top;\n",
       "    }\n",
       "\n",
       "    .dataframe thead th {\n",
       "        text-align: right;\n",
       "    }\n",
       "</style>\n",
       "<table border=\"1\" class=\"dataframe\">\n",
       "  <thead>\n",
       "    <tr style=\"text-align: right;\">\n",
       "      <th></th>\n",
       "      <th>Account</th>\n",
       "      <th>Coin</th>\n",
       "      <th>Execution Price</th>\n",
       "      <th>Size Tokens</th>\n",
       "      <th>Size USD</th>\n",
       "      <th>Side</th>\n",
       "      <th>Timestamp IST</th>\n",
       "      <th>Start Position</th>\n",
       "      <th>Direction</th>\n",
       "      <th>Closed PnL</th>\n",
       "      <th>Transaction Hash</th>\n",
       "      <th>Order ID</th>\n",
       "      <th>Crossed</th>\n",
       "      <th>Fee</th>\n",
       "      <th>Trade ID</th>\n",
       "      <th>Timestamp</th>\n",
       "    </tr>\n",
       "  </thead>\n",
       "  <tbody>\n",
       "    <tr>\n",
       "      <th>0</th>\n",
       "      <td>0xae5eacaf9c6b9111fd53034a602c192a04e082ed</td>\n",
       "      <td>@107</td>\n",
       "      <td>7.9769</td>\n",
       "      <td>986.87</td>\n",
       "      <td>7872.16</td>\n",
       "      <td>BUY</td>\n",
       "      <td>02-12-2024 22:50</td>\n",
       "      <td>0.000000</td>\n",
       "      <td>Buy</td>\n",
       "      <td>0.0</td>\n",
       "      <td>0xec09451986a1874e3a980418412fcd0201f500c95bac...</td>\n",
       "      <td>52017706630</td>\n",
       "      <td>True</td>\n",
       "      <td>0.345404</td>\n",
       "      <td>8.950000e+14</td>\n",
       "      <td>1.730000e+12</td>\n",
       "    </tr>\n",
       "    <tr>\n",
       "      <th>1</th>\n",
       "      <td>0xae5eacaf9c6b9111fd53034a602c192a04e082ed</td>\n",
       "      <td>@107</td>\n",
       "      <td>7.9800</td>\n",
       "      <td>16.00</td>\n",
       "      <td>127.68</td>\n",
       "      <td>BUY</td>\n",
       "      <td>02-12-2024 22:50</td>\n",
       "      <td>986.524596</td>\n",
       "      <td>Buy</td>\n",
       "      <td>0.0</td>\n",
       "      <td>0xec09451986a1874e3a980418412fcd0201f500c95bac...</td>\n",
       "      <td>52017706630</td>\n",
       "      <td>True</td>\n",
       "      <td>0.005600</td>\n",
       "      <td>4.430000e+14</td>\n",
       "      <td>1.730000e+12</td>\n",
       "    </tr>\n",
       "    <tr>\n",
       "      <th>2</th>\n",
       "      <td>0xae5eacaf9c6b9111fd53034a602c192a04e082ed</td>\n",
       "      <td>@107</td>\n",
       "      <td>7.9855</td>\n",
       "      <td>144.09</td>\n",
       "      <td>1150.63</td>\n",
       "      <td>BUY</td>\n",
       "      <td>02-12-2024 22:50</td>\n",
       "      <td>1002.518996</td>\n",
       "      <td>Buy</td>\n",
       "      <td>0.0</td>\n",
       "      <td>0xec09451986a1874e3a980418412fcd0201f500c95bac...</td>\n",
       "      <td>52017706630</td>\n",
       "      <td>True</td>\n",
       "      <td>0.050431</td>\n",
       "      <td>6.600000e+14</td>\n",
       "      <td>1.730000e+12</td>\n",
       "    </tr>\n",
       "    <tr>\n",
       "      <th>3</th>\n",
       "      <td>0xae5eacaf9c6b9111fd53034a602c192a04e082ed</td>\n",
       "      <td>@107</td>\n",
       "      <td>7.9874</td>\n",
       "      <td>142.98</td>\n",
       "      <td>1142.04</td>\n",
       "      <td>BUY</td>\n",
       "      <td>02-12-2024 22:50</td>\n",
       "      <td>1146.558564</td>\n",
       "      <td>Buy</td>\n",
       "      <td>0.0</td>\n",
       "      <td>0xec09451986a1874e3a980418412fcd0201f500c95bac...</td>\n",
       "      <td>52017706630</td>\n",
       "      <td>True</td>\n",
       "      <td>0.050043</td>\n",
       "      <td>1.080000e+15</td>\n",
       "      <td>1.730000e+12</td>\n",
       "    </tr>\n",
       "    <tr>\n",
       "      <th>4</th>\n",
       "      <td>0xae5eacaf9c6b9111fd53034a602c192a04e082ed</td>\n",
       "      <td>@107</td>\n",
       "      <td>7.9894</td>\n",
       "      <td>8.73</td>\n",
       "      <td>69.75</td>\n",
       "      <td>BUY</td>\n",
       "      <td>02-12-2024 22:50</td>\n",
       "      <td>1289.488521</td>\n",
       "      <td>Buy</td>\n",
       "      <td>0.0</td>\n",
       "      <td>0xec09451986a1874e3a980418412fcd0201f500c95bac...</td>\n",
       "      <td>52017706630</td>\n",
       "      <td>True</td>\n",
       "      <td>0.003055</td>\n",
       "      <td>1.050000e+15</td>\n",
       "      <td>1.730000e+12</td>\n",
       "    </tr>\n",
       "  </tbody>\n",
       "</table>\n",
       "</div>"
      ],
      "text/plain": [
       "                                      Account  Coin  Execution Price  \\\n",
       "0  0xae5eacaf9c6b9111fd53034a602c192a04e082ed  @107           7.9769   \n",
       "1  0xae5eacaf9c6b9111fd53034a602c192a04e082ed  @107           7.9800   \n",
       "2  0xae5eacaf9c6b9111fd53034a602c192a04e082ed  @107           7.9855   \n",
       "3  0xae5eacaf9c6b9111fd53034a602c192a04e082ed  @107           7.9874   \n",
       "4  0xae5eacaf9c6b9111fd53034a602c192a04e082ed  @107           7.9894   \n",
       "\n",
       "   Size Tokens  Size USD Side     Timestamp IST  Start Position Direction  \\\n",
       "0       986.87   7872.16  BUY  02-12-2024 22:50        0.000000       Buy   \n",
       "1        16.00    127.68  BUY  02-12-2024 22:50      986.524596       Buy   \n",
       "2       144.09   1150.63  BUY  02-12-2024 22:50     1002.518996       Buy   \n",
       "3       142.98   1142.04  BUY  02-12-2024 22:50     1146.558564       Buy   \n",
       "4         8.73     69.75  BUY  02-12-2024 22:50     1289.488521       Buy   \n",
       "\n",
       "   Closed PnL                                   Transaction Hash     Order ID  \\\n",
       "0         0.0  0xec09451986a1874e3a980418412fcd0201f500c95bac...  52017706630   \n",
       "1         0.0  0xec09451986a1874e3a980418412fcd0201f500c95bac...  52017706630   \n",
       "2         0.0  0xec09451986a1874e3a980418412fcd0201f500c95bac...  52017706630   \n",
       "3         0.0  0xec09451986a1874e3a980418412fcd0201f500c95bac...  52017706630   \n",
       "4         0.0  0xec09451986a1874e3a980418412fcd0201f500c95bac...  52017706630   \n",
       "\n",
       "   Crossed       Fee      Trade ID     Timestamp  \n",
       "0     True  0.345404  8.950000e+14  1.730000e+12  \n",
       "1     True  0.005600  4.430000e+14  1.730000e+12  \n",
       "2     True  0.050431  6.600000e+14  1.730000e+12  \n",
       "3     True  0.050043  1.080000e+15  1.730000e+12  \n",
       "4     True  0.003055  1.050000e+15  1.730000e+12  "
      ]
     },
     "execution_count": 3,
     "metadata": {},
     "output_type": "execute_result"
    }
   ],
   "source": [
    "trader_df.head()"
   ]
  },
  {
   "cell_type": "code",
   "execution_count": 4,
   "id": "3485a3ea",
   "metadata": {},
   "outputs": [
    {
     "data": {
      "text/html": [
       "<div>\n",
       "<style scoped>\n",
       "    .dataframe tbody tr th:only-of-type {\n",
       "        vertical-align: middle;\n",
       "    }\n",
       "\n",
       "    .dataframe tbody tr th {\n",
       "        vertical-align: top;\n",
       "    }\n",
       "\n",
       "    .dataframe thead th {\n",
       "        text-align: right;\n",
       "    }\n",
       "</style>\n",
       "<table border=\"1\" class=\"dataframe\">\n",
       "  <thead>\n",
       "    <tr style=\"text-align: right;\">\n",
       "      <th></th>\n",
       "      <th>timestamp</th>\n",
       "      <th>value</th>\n",
       "      <th>classification</th>\n",
       "      <th>date</th>\n",
       "    </tr>\n",
       "  </thead>\n",
       "  <tbody>\n",
       "    <tr>\n",
       "      <th>0</th>\n",
       "      <td>1517463000</td>\n",
       "      <td>30</td>\n",
       "      <td>Fear</td>\n",
       "      <td>2018-02-01</td>\n",
       "    </tr>\n",
       "    <tr>\n",
       "      <th>1</th>\n",
       "      <td>1517549400</td>\n",
       "      <td>15</td>\n",
       "      <td>Extreme Fear</td>\n",
       "      <td>2018-02-02</td>\n",
       "    </tr>\n",
       "    <tr>\n",
       "      <th>2</th>\n",
       "      <td>1517635800</td>\n",
       "      <td>40</td>\n",
       "      <td>Fear</td>\n",
       "      <td>2018-02-03</td>\n",
       "    </tr>\n",
       "    <tr>\n",
       "      <th>3</th>\n",
       "      <td>1517722200</td>\n",
       "      <td>24</td>\n",
       "      <td>Extreme Fear</td>\n",
       "      <td>2018-02-04</td>\n",
       "    </tr>\n",
       "    <tr>\n",
       "      <th>4</th>\n",
       "      <td>1517808600</td>\n",
       "      <td>11</td>\n",
       "      <td>Extreme Fear</td>\n",
       "      <td>2018-02-05</td>\n",
       "    </tr>\n",
       "  </tbody>\n",
       "</table>\n",
       "</div>"
      ],
      "text/plain": [
       "    timestamp  value classification        date\n",
       "0  1517463000     30           Fear  2018-02-01\n",
       "1  1517549400     15   Extreme Fear  2018-02-02\n",
       "2  1517635800     40           Fear  2018-02-03\n",
       "3  1517722200     24   Extreme Fear  2018-02-04\n",
       "4  1517808600     11   Extreme Fear  2018-02-05"
      ]
     },
     "execution_count": 4,
     "metadata": {},
     "output_type": "execute_result"
    }
   ],
   "source": [
    "sentiment_df.head()"
   ]
  },
  {
   "cell_type": "code",
   "execution_count": 5,
   "id": "970e3108",
   "metadata": {},
   "outputs": [
    {
     "name": "stdout",
     "output_type": "stream",
     "text": [
      "<class 'pandas.core.frame.DataFrame'>\n",
      "RangeIndex: 2644 entries, 0 to 2643\n",
      "Data columns (total 4 columns):\n",
      " #   Column          Non-Null Count  Dtype \n",
      "---  ------          --------------  ----- \n",
      " 0   timestamp       2644 non-null   int64 \n",
      " 1   value           2644 non-null   int64 \n",
      " 2   classification  2644 non-null   object\n",
      " 3   date            2644 non-null   object\n",
      "dtypes: int64(2), object(2)\n",
      "memory usage: 82.8+ KB\n"
     ]
    }
   ],
   "source": [
    "sentiment_df.info()"
   ]
  },
  {
   "cell_type": "code",
   "execution_count": 6,
   "id": "b2186442",
   "metadata": {},
   "outputs": [
    {
     "name": "stdout",
     "output_type": "stream",
     "text": [
      "<class 'pandas.core.frame.DataFrame'>\n",
      "RangeIndex: 211224 entries, 0 to 211223\n",
      "Data columns (total 16 columns):\n",
      " #   Column            Non-Null Count   Dtype  \n",
      "---  ------            --------------   -----  \n",
      " 0   Account           211224 non-null  object \n",
      " 1   Coin              211224 non-null  object \n",
      " 2   Execution Price   211224 non-null  float64\n",
      " 3   Size Tokens       211224 non-null  float64\n",
      " 4   Size USD          211224 non-null  float64\n",
      " 5   Side              211224 non-null  object \n",
      " 6   Timestamp IST     211224 non-null  object \n",
      " 7   Start Position    211224 non-null  float64\n",
      " 8   Direction         211224 non-null  object \n",
      " 9   Closed PnL        211224 non-null  float64\n",
      " 10  Transaction Hash  211224 non-null  object \n",
      " 11  Order ID          211224 non-null  int64  \n",
      " 12  Crossed           211224 non-null  bool   \n",
      " 13  Fee               211224 non-null  float64\n",
      " 14  Trade ID          211224 non-null  float64\n",
      " 15  Timestamp         211224 non-null  float64\n",
      "dtypes: bool(1), float64(8), int64(1), object(6)\n",
      "memory usage: 24.4+ MB\n"
     ]
    }
   ],
   "source": [
    "trader_df.info()"
   ]
  },
  {
   "cell_type": "markdown",
   "id": "7f5fd491",
   "metadata": {},
   "source": [
    "RENAME COLUMNS FOR CONSISTENCY"
   ]
  },
  {
   "cell_type": "code",
   "execution_count": 7,
   "id": "3972835f",
   "metadata": {},
   "outputs": [],
   "source": [
    "\n",
    "#To ensure both datasets have consistent column names for easy merging later.\n",
    "sentiment_df.rename(columns={\n",
    "    'date': 'Date',\n",
    "    'classification': 'Classification'\n",
    "}, inplace=True)"
   ]
  },
  {
   "cell_type": "code",
   "execution_count": 8,
   "id": "6e1509b1",
   "metadata": {},
   "outputs": [],
   "source": [
    "trader_df.rename(columns={\n",
    "    'Timestamp IST': 'time',\n",
    "    'Account': 'account',\n",
    "    'Coin': 'symbol',\n",
    "    'Execution Price': 'execution_price',\n",
    "    'Size Tokens': 'size_tokens',\n",
    "    'Size USD': 'size_usd',\n",
    "    'Side': 'side',\n",
    "    'Start Position': 'start_position',\n",
    "    'Direction': 'event',\n",
    "    'Closed PnL': 'closedPnL'\n",
    "}, inplace=True)\n"
   ]
  },
  {
   "cell_type": "markdown",
   "id": "12874823",
   "metadata": {},
   "source": [
    "CONVERT DATE COLUMNS TO DATETIME"
   ]
  },
  {
   "cell_type": "code",
   "execution_count": 9,
   "id": "08ac4674",
   "metadata": {},
   "outputs": [],
   "source": [
    "\n",
    "# Convert sentiment data's Date column to datetime format.\n",
    "sentiment_df['Date'] = pd.to_datetime(sentiment_df['Date'])\n",
    "trader_df['time'] = pd.to_datetime(trader_df['time'])"
   ]
  },
  {
   "cell_type": "code",
   "execution_count": 10,
   "id": "f93c6c97",
   "metadata": {},
   "outputs": [],
   "source": [
    "# Extract only the date (drop the time part) for daily matching with sentiment data.\n",
    "trader_df['Date'] = trader_df['time'].dt.date\n",
    "trader_df['Date'] = pd.to_datetime(trader_df['Date'])\n"
   ]
  },
  {
   "cell_type": "markdown",
   "id": "0f2e02f4",
   "metadata": {},
   "source": [
    "MERGE DATASETS"
   ]
  },
  {
   "cell_type": "code",
   "execution_count": 11,
   "id": "6a9f477e",
   "metadata": {},
   "outputs": [],
   "source": [
    "\n",
    "merged_df = pd.merge(trader_df, sentiment_df[['Date', 'Classification']],\n",
    "                     on='Date', how='left')"
   ]
  },
  {
   "cell_type": "markdown",
   "id": "e68292fa",
   "metadata": {},
   "source": [
    "CALCULATE AVERAGE PNL BY SENTIMENT"
   ]
  },
  {
   "cell_type": "code",
   "execution_count": 12,
   "id": "6af92df1",
   "metadata": {},
   "outputs": [],
   "source": [
    "#To see if traders perform differently during Fear vs Greed market conditions.\n",
    "# Group by Classification (Fear/Greed) and take the mean closedPnL.\n",
    "avg_pnl = merged_df.groupby('Classification')['closedPnL'].mean().reset_index()"
   ]
  },
  {
   "cell_type": "markdown",
   "id": "d9b68a78",
   "metadata": {},
   "source": [
    "FIND TOP 5 MOST PROFITABLE ACCOUNTS"
   ]
  },
  {
   "cell_type": "code",
   "execution_count": 13,
   "id": "b3977d18",
   "metadata": {},
   "outputs": [],
   "source": [
    "#To identify traders who are consistently profitable across the dataset.\n",
    "# Group by account, sum their closedPnL, sort in descending order, and select top 5.\n",
    "top_accounts = merged_df.groupby('account')['closedPnL'].sum().sort_values(ascending=False).head(5)\n"
   ]
  },
  {
   "cell_type": "markdown",
   "id": "6d8ad27b",
   "metadata": {},
   "source": [
    "SAVE MERGED DATA TO CSV"
   ]
  },
  {
   "cell_type": "code",
   "execution_count": 14,
   "id": "cd179947",
   "metadata": {},
   "outputs": [],
   "source": [
    "#To keep a processed dataset for further analysis or reporting.\n",
    "merged_df.to_csv(\"merged_analysis.csv\", index=False)"
   ]
  },
  {
   "cell_type": "markdown",
   "id": "b5a3f304",
   "metadata": {},
   "source": [
    "VISUALIZE AVERAGE PNL VS SENTIMENT"
   ]
  },
  {
   "cell_type": "code",
   "execution_count": 15,
   "id": "7d6a171d",
   "metadata": {},
   "outputs": [
    {
     "data": {
      "image/png": "[encoded data removed]",
      "text/plain": [
       "<Figure size 640x480 with 1 Axes>"
      ]
     },
     "metadata": {},
     "output_type": "display_data"
    }
   ],
   "source": [
    "#Visual representation makes it easier to compare trader performance\n",
    "#        under Fear vs Greed market conditions.\n",
    "plt.bar(avg_pnl['Classification'], avg_pnl['closedPnL'])\n",
    "plt.xlabel(\"Market Sentiment (Fear/Greed)\")\n",
    "plt.ylabel(\"Average Closed PnL\")\n",
    "plt.title(\"Average Trader PnL vs Market Sentiment\")\n",
    "plt.xticks(rotation=45)\n",
    "plt.tight_layout()\n",
    "plt.show()"
   ]
  },
  {
   "cell_type": "markdown",
   "id": "1d46d323",
   "metadata": {},
   "source": [
    "PRINT INSIGHTS TO CONSOLE"
   ]
  },
  {
   "cell_type": "code",
   "execution_count": 16,
   "id": "f8dcd442",
   "metadata": {},
   "outputs": [
    {
     "name": "stdout",
     "output_type": "stream",
     "text": [
      "Average PnL by Sentiment:\n",
      "   Classification  closedPnL\n",
      "0   Extreme Fear  47.446302\n",
      "1  Extreme Greed  73.144030\n",
      "2           Fear  56.544720\n",
      "3          Greed  35.652184\n",
      "4        Neutral  31.746470\n",
      "\n",
      "Top 5 Profitable Accounts:\n",
      " account\n",
      "0xb1231a4a2dd02f2276fa3c5e2a2f3436e6bfed23    2.143383e+06\n",
      "0x083384f897ee0f19899168e3b1bec365f52a9012    1.600230e+06\n",
      "0xbaaaf6571ab7d571043ff1e313a9609a10637864    9.401638e+05\n",
      "0x513b8629fe877bb581bf244e326a047b249c4ff1    8.404226e+05\n",
      "0xbee1707d6b44d4d52bfe19e41f8a828645437aab    8.360806e+05\n",
      "Name: closedPnL, dtype: float64\n"
     ]
    }
   ],
   "source": [
    "# Print insights\n",
    "print(\"Average PnL by Sentiment:\\n\", avg_pnl)\n",
    "print(\"\\nTop 5 Profitable Accounts:\\n\", top_accounts)"
   ]
  },
  {
   "cell_type": "code",
   "execution_count": null,
   "id": "3935dc6d",
   "metadata": {},
   "outputs": [],
   "source": []
  }
 ],
 "metadata": {
  "kernelspec": {
   "display_name": "Python 3 (ipykernel)",
   "language": "python",
   "name": "python3"
  },
  "language_info": {
   "codemirror_mode": {
    "name": "ipython",
    "version": 3
   },
   "file_extension": ".py",
   "mimetype": "text/x-python",
   "name": "python",
   "nbconvert_exporter": "python",
   "pygments_lexer": "ipython3",
   "version": "3.11.4"
  }
 },
 "nbformat": 4,
 "nbformat_minor": 5
}
